{
 "cells": [
  {
   "cell_type": "code",
   "execution_count": 1,
   "metadata": {
    "collapsed": false
   },
   "outputs": [],
   "source": [
    "import dynamic_traffic_signal\n",
    "import importlib"
   ]
  },
  {
   "cell_type": "code",
   "execution_count": 6,
   "metadata": {
    "collapsed": false
   },
   "outputs": [
    {
     "data": {
      "text/plain": [
       "<module 'dynamic_traffic_signal' from '/home/utkarsh/Study/Quantela/Traffic_Simulation/dynamic_traffic_signal.py'>"
      ]
     },
     "execution_count": 6,
     "metadata": {},
     "output_type": "execute_result"
    }
   ],
   "source": [
    "importlib.reload(dynamic_traffic_signal)"
   ]
  },
  {
   "cell_type": "code",
   "execution_count": 2,
   "metadata": {
    "collapsed": true
   },
   "outputs": [],
   "source": [
    "a = dynamic_traffic_signal.DynamicTrafficSignal('Testing_class_ijipura')"
   ]
  },
  {
   "cell_type": "code",
   "execution_count": 3,
   "metadata": {
    "collapsed": false
   },
   "outputs": [
    {
     "name": "stdout",
     "output_type": "stream",
     "text": [
      "18 18\n",
      " Retrying in 1 seconds\n",
      "18 19\n",
      " Retrying in 1 seconds\n",
      "18 20\n",
      " Retrying in 1 seconds\n",
      "19 18\n",
      " Retrying in 1 seconds\n",
      "19 19\n",
      " Retrying in 1 seconds\n",
      "19 20\n",
      " Retrying in 1 seconds\n",
      "20 18\n",
      " Retrying in 1 seconds\n",
      "20 19\n",
      " Retrying in 1 seconds\n",
      "20 20\n",
      " Retrying in 1 seconds\n",
      " Retrying in 1 seconds\n",
      "Could not connect to TraCI server at localhost:48415 [Errno 111] Connection refused\n",
      " Retrying in 2 seconds\n"
     ]
    },
    {
     "data": {
      "text/plain": [
       "{'one': 18, 'two': 20}"
      ]
     },
     "execution_count": 3,
     "metadata": {},
     "output_type": "execute_result"
    }
   ],
   "source": [
    "a.optimize_traffic_lights(timing_range={'min':18, 'max':21}, gui=True)"
   ]
  },
  {
   "cell_type": "code",
   "execution_count": 4,
   "metadata": {
    "collapsed": false
   },
   "outputs": [
    {
     "data": {
      "text/plain": [
       "{'one': 18, 'two': 20}"
      ]
     },
     "execution_count": 4,
     "metadata": {},
     "output_type": "execute_result"
    }
   ],
   "source": [
    "a.optimized_result"
   ]
  },
  {
   "cell_type": "code",
   "execution_count": null,
   "metadata": {
    "collapsed": true
   },
   "outputs": [],
   "source": []
  }
 ],
 "metadata": {
  "kernelspec": {
   "display_name": "Python 3",
   "language": "python",
   "name": "python3"
  },
  "language_info": {
   "codemirror_mode": {
    "name": "ipython",
    "version": 3
   },
   "file_extension": ".py",
   "mimetype": "text/x-python",
   "name": "python",
   "nbconvert_exporter": "python",
   "pygments_lexer": "ipython3",
   "version": "3.5.2"
  }
 },
 "nbformat": 4,
 "nbformat_minor": 1
}
