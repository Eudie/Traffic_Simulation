{
 "cells": [
  {
   "cell_type": "code",
   "execution_count": 1,
   "metadata": {},
   "outputs": [],
   "source": [
    "import dynamic_traffic_signal\n",
    "import importlib"
   ]
  },
  {
   "cell_type": "code",
   "execution_count": 2,
   "metadata": {},
   "outputs": [],
   "source": [
    "a = dynamic_traffic_signal.DynamicTrafficSignal('Testing_class_ijipura_small')"
   ]
  },
  {
   "cell_type": "code",
   "execution_count": 3,
   "metadata": {},
   "outputs": [],
   "source": [
    "minlat=\"12.9380131671\"\n",
    "minlon=\"77.6319900345\" \n",
    "maxlat=\"12.939314082\" \n",
    "maxlon=\"77.6337735827\""
   ]
  },
  {
   "cell_type": "code",
   "execution_count": 4,
   "metadata": {},
   "outputs": [
    {
     "name": "stdout",
     "output_type": "stream",
     "text": [
      "Input traffic value for each road passing the junction: cluster_315208341_315208342\n",
      "30 30\n",
      " Retrying in 1 seconds\n",
      " Retrying in 1 seconds\n"
     ]
    },
    {
     "data": {
      "text/plain": [
       "{'junction': 'cluster_315208341_315208342',\n",
       " 'phases': ['GGGGrrrrrrrrrrrrrr',\n",
       "  'rrrrGGGGGrrrrrrrrr',\n",
       "  'rrrrrrrrrGGGGrrrrr',\n",
       "  'rrrrrrrrrrrrrGGGGG'],\n",
       " 'time': [30, 60, 90, 120]}"
      ]
     },
     "execution_count": 4,
     "metadata": {},
     "output_type": "execute_result"
    }
   ],
   "source": [
    "a.get_map(minlon,minlat, maxlon,  maxlat)\n",
    "a.build_traffic()\n",
    "a.optimize_traffic_lights(timing_range={'min':30,'max':31}, gui=True)"
   ]
  },
  {
   "cell_type": "code",
   "execution_count": null,
   "metadata": {},
   "outputs": [],
   "source": []
  }
 ],
 "metadata": {
  "kernelspec": {
   "display_name": "Python 3",
   "language": "python",
   "name": "python3"
  },
  "language_info": {
   "codemirror_mode": {
    "name": "ipython",
    "version": 3
   },
   "file_extension": ".py",
   "mimetype": "text/x-python",
   "name": "python",
   "nbconvert_exporter": "python",
   "pygments_lexer": "ipython3",
   "version": "3.6.2"
  }
 },
 "nbformat": 4,
 "nbformat_minor": 1
}
