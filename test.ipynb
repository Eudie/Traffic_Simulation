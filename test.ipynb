{
 "cells": [
  {
   "cell_type": "code",
   "execution_count": 1,
   "metadata": {},
   "outputs": [],
   "source": [
    "import dynamic_traffic_signal\n",
    "import importlib"
   ]
  },
  {
   "cell_type": "code",
   "execution_count": 6,
   "metadata": {},
   "outputs": [
    {
     "data": {
      "text/plain": [
       "<module 'dynamic_traffic_signal' from '/home/utkarsh/Study/Quantela/Traffic_Simulation/dynamic_traffic_signal.py'>"
      ]
     },
     "execution_count": 6,
     "metadata": {},
     "output_type": "execute_result"
    }
   ],
   "source": [
    "importlib.reload(dynamic_traffic_signal)"
   ]
  },
  {
   "cell_type": "code",
   "execution_count": 2,
   "metadata": {
    "collapsed": true
   },
   "outputs": [],
   "source": [
    "a = dynamic_traffic_signal.DynamicTrafficSignal('Testing_class_ijipura')"
   ]
  },
  {
   "cell_type": "code",
   "execution_count": 3,
   "metadata": {},
   "outputs": [
    {
     "name": "stdout",
     "output_type": "stream",
     "text": [
      "18 18\n",
      " Retrying in 1 seconds\n",
      "18 19\n",
      " Retrying in 1 seconds\n",
      "18 20\n",
      " Retrying in 1 seconds\n",
      "19 18\n",
      " Retrying in 1 seconds\n",
      "19 19\n",
      " Retrying in 1 seconds\n",
      "19 20\n",
      " Retrying in 1 seconds\n",
      "20 18\n",
      " Retrying in 1 seconds\n",
      "20 19\n",
      " Retrying in 1 seconds\n",
      "20 20\n",
      " Retrying in 1 seconds\n",
      " Retrying in 1 seconds\n",
      "Could not connect to TraCI server at localhost:48415 [Errno 111] Connection refused\n",
      " Retrying in 2 seconds\n"
     ]
    },
    {
     "data": {
      "text/plain": [
       "{'one': 18, 'two': 20}"
      ]
     },
     "execution_count": 3,
     "metadata": {},
     "output_type": "execute_result"
    }
   ],
   "source": [
    "a.optimize_traffic_lights(timing_range={'min':18, 'max':21}, gui=True)"
   ]
  },
  {
   "cell_type": "code",
   "execution_count": 4,
   "metadata": {},
   "outputs": [
    {
     "data": {
      "text/plain": [
       "{'one': 18, 'two': 20}"
      ]
     },
     "execution_count": 4,
     "metadata": {},
     "output_type": "execute_result"
    }
   ],
   "source": [
    "a.optimized_result"
   ]
  },
  {
   "cell_type": "code",
   "execution_count": 57,
   "metadata": {},
   "outputs": [],
   "source": [
    "import pandas as pd\n",
    "import numpy as np\n",
    "import networkx as nx\n",
    "import xml.etree.ElementTree as Xml\n",
    "from geopy.distance import great_circle\n",
    "\n",
    "\n",
    "class OsmNetworkInfo:\n",
    "    \"\"\"\n",
    "    Here we are parsing and extracting relevenat information from osm file to use in our model\n",
    "    \"\"\"\n",
    "\n",
    "    def __init__(self, xml_name_location):\n",
    "        self.xml_name_location = xml_name_location\n",
    "\n",
    "    def get_raw_traffic_light_nodes(self):\n",
    "        \"\"\"\n",
    "        here we are finding all raw traffic light nodes\n",
    "        :return: dictionary of all traffic light nodes\n",
    "        \"\"\"\n",
    "        e = Xml.parse(self.xml_name_location).getroot()\n",
    "        raw_traffic_light_nodes = {}\n",
    "        for i in e:\n",
    "            if i.tag == \"node\":\n",
    "                junction_name = \"None\"\n",
    "                isSignal = False\n",
    "                for j in i:\n",
    "                    \n",
    "                    if j.tag == \"tag\":\n",
    "                        if j.attrib[\"k\"] in [\"designation\", \"name\"]:\n",
    "                            junction_name = j.attrib[\"v\"]\n",
    "                            \n",
    "                        if j.attrib[\"v\"] == \"traffic_signals\":\n",
    "                            isSignal = True\n",
    "                            raw_traffic_light_nodes[i.attrib[\"id\"]] = {'lat': i.attrib[\"lat\"],\n",
    "                                                                       'long': i.attrib[\"lon\"]}\n",
    "                            \n",
    "                if isSignal:\n",
    "                    raw_traffic_light_nodes[i.attrib[\"id\"]]['junction_name'] = junction_name\n",
    "                        \n",
    "        return raw_traffic_light_nodes\n",
    "\n",
    "    def get_nodes_to_merge(self):\n",
    "        \"\"\"\n",
    "        here we are finding the nodes of junction which has to be merged is sumo to get proper junction\n",
    "        :return: list of lists that contain nodes to be merged\n",
    "        \"\"\"\n",
    "        graph = nx.Graph()\n",
    "        e = Xml.parse(self.xml_name_location).getroot()\n",
    "        raw_nodes = self.get_raw_traffic_light_nodes()\n",
    "        for i in e:\n",
    "            if i.tag == \"way\":\n",
    "                way_tmp = []\n",
    "                insert = True\n",
    "                for j in i:\n",
    "                    if j.tag == \"nd\":\n",
    "                        if j.attrib[\"ref\"] in raw_nodes.keys():\n",
    "                            way_tmp.append(j.attrib[\"ref\"])\n",
    "                        else:\n",
    "                            insert = False\n",
    "                            break\n",
    "                if insert:\n",
    "                    graph.add_path(way_tmp)\n",
    "        nx.set_node_attributes(graph, raw_nodes)\n",
    "        \n",
    "        for i in graph.edges:\n",
    "            distance = great_circle((graph.nodes[i[0]]['lat'], graph.nodes[i[0]]['long']),\n",
    "                                    (graph.nodes[i[1]]['lat'], graph.nodes[i[1]]['long'])).meters\n",
    "            if distance > max_distance:\n",
    "                graph.remove_edge(*i)\n",
    "\n",
    "        output = {}\n",
    "        i = 0\n",
    "        print(nx.connected_component_subgraphs(graph))\n",
    "        for h in nx.connected_component_subgraphs(graph):\n",
    "            output[i] = {'nodes': list(h.nodes), 'suggested_name':'None'}\n",
    "            print(h.nodes)\n",
    "            for node in h.nodes:\n",
    "                if h.nodes[node]['junction_name'] is not 'None':\n",
    "                    output[i]['suggested_name'] = h.nodes[node]['junction_name']\n",
    "            i += 1\n",
    "\n",
    "        return output\n",
    "\n"
   ]
  },
  {
   "cell_type": "code",
   "execution_count": 58,
   "metadata": {},
   "outputs": [],
   "source": [
    "a = OsmNetworkInfo('test.osm')"
   ]
  },
  {
   "cell_type": "code",
   "execution_count": 59,
   "metadata": {},
   "outputs": [
    {
     "name": "stdout",
     "output_type": "stream",
     "text": [
      "<generator object connected_component_subgraphs at 0x7f619310a048>\n",
      "['315208341', '315208342']\n"
     ]
    }
   ],
   "source": [
    "net = a.get_nodes_to_merge()"
   ]
  },
  {
   "cell_type": "code",
   "execution_count": 60,
   "metadata": {},
   "outputs": [
    {
     "data": {
      "text/plain": [
       "{0: {'nodes': ['315208341', '315208342'], 'suggested_name': 'Ejipur Signal'}}"
      ]
     },
     "execution_count": 60,
     "metadata": {},
     "output_type": "execute_result"
    }
   ],
   "source": [
    "net"
   ]
  },
  {
   "cell_type": "code",
   "execution_count": 28,
   "metadata": {},
   "outputs": [],
   "source": [
    "from geopy.distance import great_circle\n",
    "max_distance = 20\n",
    "for i in net.edges:\n",
    "    distance = great_circle((net.nodes[i[0]]['lat'], net.nodes[i[0]]['long']),\n",
    "                           (net.nodes[i[1]]['lat'], net.nodes[i[1]]['long'])).meters\n",
    "    if distance > max_distance:\n",
    "        net.remove_edge(*i) "
   ]
  },
  {
   "cell_type": "code",
   "execution_count": 29,
   "metadata": {
    "scrolled": true
   },
   "outputs": [
    {
     "data": {
      "text/plain": [
       "{'61748555': {'lat': '12.9516788',\n",
       "  'long': '77.6214774',\n",
       "  'junction_name': 'None'},\n",
       " '260729391': {'lat': '12.9372613',\n",
       "  'long': '77.6269775',\n",
       "  'junction_name': 'Sony World Signal'},\n",
       " '263227076': {'lat': '12.9298524',\n",
       "  'long': '77.6331784',\n",
       "  'junction_name': 'None'},\n",
       " '309592695': {'lat': '12.9351857',\n",
       "  'long': '77.6244386',\n",
       "  'junction_name': 'None'},\n",
       " '315208341': {'lat': '12.9385881',\n",
       "  'long': '77.6326767',\n",
       "  'junction_name': 'None'},\n",
       " '315208342': {'lat': '12.9384851',\n",
       "  'long': '77.6327639',\n",
       "  'junction_name': 'Ejipur Signal'}}"
      ]
     },
     "execution_count": 29,
     "metadata": {},
     "output_type": "execute_result"
    }
   ],
   "source": [
    "a.get_raw_traffic_light_nodes()"
   ]
  },
  {
   "cell_type": "code",
   "execution_count": 7,
   "metadata": {},
   "outputs": [
    {
     "data": {
      "text/plain": [
       "EdgeView([('315208341', '315208342')])"
      ]
     },
     "execution_count": 7,
     "metadata": {},
     "output_type": "execute_result"
    }
   ],
   "source": [
    "net.edges"
   ]
  },
  {
   "cell_type": "code",
   "execution_count": null,
   "metadata": {},
   "outputs": [],
   "source": []
  }
 ],
 "metadata": {
  "kernelspec": {
   "display_name": "Python 3",
   "language": "python",
   "name": "python3"
  },
  "language_info": {
   "codemirror_mode": {
    "name": "ipython",
    "version": 3
   },
   "file_extension": ".py",
   "mimetype": "text/x-python",
   "name": "python",
   "nbconvert_exporter": "python",
   "pygments_lexer": "ipython3",
   "version": "3.6.2"
  }
 },
 "nbformat": 4,
 "nbformat_minor": 1
}
