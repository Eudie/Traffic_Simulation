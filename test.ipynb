{
 "cells": [
  {
   "cell_type": "code",
   "execution_count": 1,
   "metadata": {},
   "outputs": [],
   "source": [
    "import dynamic_traffic_signal\n",
    "import importlib"
   ]
  },
  {
   "cell_type": "code",
   "execution_count": 2,
   "metadata": {},
   "outputs": [],
   "source": [
    "a = dynamic_traffic_signal.DynamicTrafficSignal('Testing_class_ijipura_small')"
   ]
  },
  {
   "cell_type": "code",
   "execution_count": 3,
   "metadata": {},
   "outputs": [],
   "source": [
    "minlat=\"12.9380131671\"\n",
    "minlon=\"77.6319900345\" \n",
    "maxlat=\"12.939314082\" \n",
    "maxlon=\"77.6337735827\""
   ]
  },
  {
   "cell_type": "code",
   "execution_count": 4,
   "metadata": {},
   "outputs": [],
   "source": [
    "a.get_map(minlon, minlat , maxlon,  maxlat)"
   ]
  },
  {
   "cell_type": "code",
   "execution_count": null,
   "metadata": {},
   "outputs": [],
   "source": []
  },
  {
   "cell_type": "code",
   "execution_count": null,
   "metadata": {},
   "outputs": [],
   "source": [
    "\n"
   ]
  },
  {
   "cell_type": "code",
   "execution_count": 1,
   "metadata": {},
   "outputs": [],
   "source": [
    "import sumo_information"
   ]
  },
  {
   "cell_type": "code",
   "execution_count": 2,
   "metadata": {},
   "outputs": [],
   "source": [
    "map = '../Testing_class_ijipura_small/original_sumo.net.xml'"
   ]
  },
  {
   "cell_type": "code",
   "execution_count": 3,
   "metadata": {},
   "outputs": [],
   "source": [
    "a = sumo_information.SumoNetworkInfo(map)"
   ]
  },
  {
   "cell_type": "code",
   "execution_count": 4,
   "metadata": {},
   "outputs": [
    {
     "data": {
      "text/plain": [
       "{'61748555': {'incLanes': ['-52736010#0_0'],\n",
       "  'intLanes': [':61748555_0_0'],\n",
       "  'request': [{'cont': '0', 'foes': '0', 'index': '0', 'response': '0'}],\n",
       "  'routes': [{'dir': 'T',\n",
       "    'from': '-52736010#0',\n",
       "    'fromLane': '0',\n",
       "    'linkIndex': '0',\n",
       "    'state': 'o',\n",
       "    'to': '52736010#0',\n",
       "    'toLane': '0',\n",
       "    'via': ':61748555_0_0'}],\n",
       "  'shape': ['-0.00,1757.58', '0.08,1754.28', '0.00,1757.48'],\n",
       "  'x': '0.00',\n",
       "  'y': '1757.53'},\n",
       " 'cluster_315208341_315208342': {'incLanes': ['-111786744#0_0',\n",
       "   '545610202_0',\n",
       "   '545610202_1',\n",
       "   '52736010#1_0',\n",
       "   '545604696_0',\n",
       "   '545604696_1'],\n",
       "  'intLanes': [':cluster_315208341_315208342_0_0',\n",
       "   ':cluster_315208341_315208342_1_0',\n",
       "   ':cluster_315208341_315208342_18_0',\n",
       "   ':cluster_315208341_315208342_19_0',\n",
       "   ':cluster_315208341_315208342_4_0',\n",
       "   ':cluster_315208341_315208342_5_0',\n",
       "   ':cluster_315208341_315208342_5_1',\n",
       "   ':cluster_315208341_315208342_20_0',\n",
       "   ':cluster_315208341_315208342_21_0',\n",
       "   ':cluster_315208341_315208342_9_0',\n",
       "   ':cluster_315208341_315208342_10_0',\n",
       "   ':cluster_315208341_315208342_22_0',\n",
       "   ':cluster_315208341_315208342_23_0',\n",
       "   ':cluster_315208341_315208342_13_0',\n",
       "   ':cluster_315208341_315208342_14_0',\n",
       "   ':cluster_315208341_315208342_14_1',\n",
       "   ':cluster_315208341_315208342_24_0',\n",
       "   ':cluster_315208341_315208342_25_0'],\n",
       "  'request': [{'cont': '0',\n",
       "    'foes': '100000100001100000',\n",
       "    'index': '0',\n",
       "    'response': '000000000001100000'},\n",
       "   {'cont': '0',\n",
       "    'foes': '011111100011100000',\n",
       "    'index': '1',\n",
       "    'response': '011110000011100000'},\n",
       "   {'cont': '1',\n",
       "    'foes': '011100011111100000',\n",
       "    'index': '2',\n",
       "    'response': '011100011011100000'},\n",
       "   {'cont': '1',\n",
       "    'foes': '010000010000010000',\n",
       "    'index': '3',\n",
       "    'response': '010000010000010000'},\n",
       "   {'cont': '0',\n",
       "    'foes': '010000010011001000',\n",
       "    'index': '4',\n",
       "    'response': '000000000000000000'},\n",
       "   {'cont': '0',\n",
       "    'foes': '110000110000000111',\n",
       "    'index': '5',\n",
       "    'response': '000000000000000000'},\n",
       "   {'cont': '0',\n",
       "    'foes': '110000110000000111',\n",
       "    'index': '6',\n",
       "    'response': '000000000000000000'},\n",
       "   {'cont': '1',\n",
       "    'foes': '001111110000110110',\n",
       "    'index': '7',\n",
       "    'response': '001110000000000000'},\n",
       "   {'cont': '1',\n",
       "    'foes': '001100001000000100',\n",
       "    'index': '8',\n",
       "    'response': '001100001000000100'},\n",
       "   {'cont': '0',\n",
       "    'foes': '001100000100000100',\n",
       "    'index': '9',\n",
       "    'response': '001100000000000000'},\n",
       "   {'cont': '0',\n",
       "    'foes': '011100000011111100',\n",
       "    'index': '10',\n",
       "    'response': '011100000011110000'},\n",
       "   {'cont': '1',\n",
       "    'foes': '111100000011100011',\n",
       "    'index': '11',\n",
       "    'response': '011100000011100011'},\n",
       "   {'cont': '1',\n",
       "    'foes': '000010000010000010',\n",
       "    'index': '12',\n",
       "    'response': '000010000010000010'},\n",
       "   {'cont': '0',\n",
       "    'foes': '011001000010000010',\n",
       "    'index': '13',\n",
       "    'response': '000000000000000000'},\n",
       "   {'cont': '0',\n",
       "    'foes': '000000111110000110',\n",
       "    'index': '14',\n",
       "    'response': '000000000000000000'},\n",
       "   {'cont': '0',\n",
       "    'foes': '000000111110000110',\n",
       "    'index': '15',\n",
       "    'response': '000000000000000000'},\n",
       "   {'cont': '1',\n",
       "    'foes': '000110110001111110',\n",
       "    'index': '16',\n",
       "    'response': '000000000001110000'},\n",
       "   {'cont': '1',\n",
       "    'foes': '000000100001100001',\n",
       "    'index': '17',\n",
       "    'response': '000000100001100001'}],\n",
       "  'routes': [{'dir': 'l',\n",
       "    'from': '-111786744#0',\n",
       "    'fromLane': '0',\n",
       "    'linkIndex': '0',\n",
       "    'state': 'o',\n",
       "    'to': '545604694',\n",
       "    'toLane': '0',\n",
       "    'via': ':cluster_315208341_315208342_0_0'},\n",
       "   {'dir': 's',\n",
       "    'from': '-111786744#0',\n",
       "    'fromLane': '0',\n",
       "    'linkIndex': '1',\n",
       "    'state': 'o',\n",
       "    'to': '-52736010#1',\n",
       "    'toLane': '0',\n",
       "    'via': ':cluster_315208341_315208342_1_0'},\n",
       "   {'dir': 'r',\n",
       "    'from': '-111786744#0',\n",
       "    'fromLane': '0',\n",
       "    'linkIndex': '2',\n",
       "    'state': 'o',\n",
       "    'to': '545610203',\n",
       "    'toLane': '1',\n",
       "    'via': ':cluster_315208341_315208342_2_0'},\n",
       "   {'dir': 'T',\n",
       "    'from': '-111786744#0',\n",
       "    'fromLane': '0',\n",
       "    'linkIndex': '3',\n",
       "    'state': 'o',\n",
       "    'to': '111786744#0',\n",
       "    'toLane': '0',\n",
       "    'via': ':cluster_315208341_315208342_3_0'},\n",
       "   {'dir': 'l',\n",
       "    'from': '52736010#1',\n",
       "    'fromLane': '0',\n",
       "    'linkIndex': '9',\n",
       "    'state': 'o',\n",
       "    'to': '545610203',\n",
       "    'toLane': '0',\n",
       "    'via': ':cluster_315208341_315208342_9_0'},\n",
       "   {'dir': 's',\n",
       "    'from': '52736010#1',\n",
       "    'fromLane': '0',\n",
       "    'linkIndex': '10',\n",
       "    'state': 'o',\n",
       "    'to': '111786744#0',\n",
       "    'toLane': '0',\n",
       "    'via': ':cluster_315208341_315208342_10_0'},\n",
       "   {'dir': 'r',\n",
       "    'from': '52736010#1',\n",
       "    'fromLane': '0',\n",
       "    'linkIndex': '11',\n",
       "    'state': 'o',\n",
       "    'to': '545604694',\n",
       "    'toLane': '1',\n",
       "    'via': ':cluster_315208341_315208342_11_0'},\n",
       "   {'dir': 'T',\n",
       "    'from': '52736010#1',\n",
       "    'fromLane': '0',\n",
       "    'linkIndex': '12',\n",
       "    'state': 'o',\n",
       "    'to': '-52736010#1',\n",
       "    'toLane': '0',\n",
       "    'via': ':cluster_315208341_315208342_12_0'},\n",
       "   {'dir': 'l',\n",
       "    'from': '545604696',\n",
       "    'fromLane': '0',\n",
       "    'linkIndex': '13',\n",
       "    'state': 'o',\n",
       "    'to': '-52736010#1',\n",
       "    'toLane': '0',\n",
       "    'via': ':cluster_315208341_315208342_13_0'},\n",
       "   {'dir': 's',\n",
       "    'from': '545604696',\n",
       "    'fromLane': '0',\n",
       "    'linkIndex': '14',\n",
       "    'state': 'o',\n",
       "    'to': '545610203',\n",
       "    'toLane': '0',\n",
       "    'via': ':cluster_315208341_315208342_14_0'},\n",
       "   {'dir': 's',\n",
       "    'from': '545604696',\n",
       "    'fromLane': '1',\n",
       "    'linkIndex': '15',\n",
       "    'state': 'o',\n",
       "    'to': '545610203',\n",
       "    'toLane': '1',\n",
       "    'via': ':cluster_315208341_315208342_14_1'},\n",
       "   {'dir': 'r',\n",
       "    'from': '545604696',\n",
       "    'fromLane': '1',\n",
       "    'linkIndex': '16',\n",
       "    'state': 'o',\n",
       "    'to': '111786744#0',\n",
       "    'toLane': '0',\n",
       "    'via': ':cluster_315208341_315208342_16_0'},\n",
       "   {'dir': 'T',\n",
       "    'from': '545604696',\n",
       "    'fromLane': '1',\n",
       "    'linkIndex': '17',\n",
       "    'state': 'o',\n",
       "    'to': '545604694',\n",
       "    'toLane': '1',\n",
       "    'via': ':cluster_315208341_315208342_17_0'},\n",
       "   {'dir': 'l',\n",
       "    'from': '545610202',\n",
       "    'fromLane': '0',\n",
       "    'linkIndex': '4',\n",
       "    'state': 'o',\n",
       "    'to': '111786744#0',\n",
       "    'toLane': '0',\n",
       "    'via': ':cluster_315208341_315208342_4_0'},\n",
       "   {'dir': 's',\n",
       "    'from': '545610202',\n",
       "    'fromLane': '0',\n",
       "    'linkIndex': '5',\n",
       "    'state': 'o',\n",
       "    'to': '545604694',\n",
       "    'toLane': '0',\n",
       "    'via': ':cluster_315208341_315208342_5_0'},\n",
       "   {'dir': 's',\n",
       "    'from': '545610202',\n",
       "    'fromLane': '1',\n",
       "    'linkIndex': '6',\n",
       "    'state': 'o',\n",
       "    'to': '545604694',\n",
       "    'toLane': '1',\n",
       "    'via': ':cluster_315208341_315208342_5_1'},\n",
       "   {'dir': 'r',\n",
       "    'from': '545610202',\n",
       "    'fromLane': '1',\n",
       "    'linkIndex': '7',\n",
       "    'state': 'o',\n",
       "    'to': '-52736010#1',\n",
       "    'toLane': '0',\n",
       "    'via': ':cluster_315208341_315208342_7_0'},\n",
       "   {'dir': 'T',\n",
       "    'from': '545610202',\n",
       "    'fromLane': '1',\n",
       "    'linkIndex': '8',\n",
       "    'state': 'o',\n",
       "    'to': '545610203',\n",
       "    'toLane': '1',\n",
       "    'via': ':cluster_315208341_315208342_8_0'}],\n",
       "  'shape': ['1240.00,302.34',\n",
       "   '1245.97,304.91',\n",
       "   '1246.87,306.24',\n",
       "   '1246.95,324.19',\n",
       "   '1229.56,328.94',\n",
       "   '1224.09,325.43',\n",
       "   '1223.40,324.15',\n",
       "   '1223.51,306.35'],\n",
       "  'x': '1235.58',\n",
       "  'y': '315.35'}}"
      ]
     },
     "execution_count": 4,
     "metadata": {},
     "output_type": "execute_result"
    }
   ],
   "source": [
    "a.get_junction_routes()"
   ]
  },
  {
   "cell_type": "code",
   "execution_count": null,
   "metadata": {},
   "outputs": [],
   "source": []
  },
  {
   "cell_type": "code",
   "execution_count": null,
   "metadata": {},
   "outputs": [],
   "source": []
  },
  {
   "cell_type": "code",
   "execution_count": null,
   "metadata": {},
   "outputs": [],
   "source": []
  },
  {
   "cell_type": "code",
   "execution_count": 9,
   "metadata": {},
   "outputs": [
    {
     "data": {
      "text/plain": [
       "1"
      ]
     },
     "execution_count": 9,
     "metadata": {},
     "output_type": "execute_result"
    }
   ],
   "source": [
    "len(diction)"
   ]
  },
  {
   "cell_type": "code",
   "execution_count": 10,
   "metadata": {},
   "outputs": [
    {
     "name": "stdout",
     "output_type": "stream",
     "text": [
      "315208342 315208341\n"
     ]
    }
   ],
   "source": [
    "for i in range(len(diction)):\n",
    "    print(\" \".join(diction[i]['nodes']))"
   ]
  },
  {
   "cell_type": "code",
   "execution_count": 11,
   "metadata": {},
   "outputs": [],
   "source": [
    "with open(\"test_node.xml\", \"w\") as routes:\n",
    "    print(\"<nodes>\", file=routes)\n",
    "    for i in range(len(diction)):\n",
    "        print('   <join nodes=\"{}\"/>'.format(\" \".join(diction[i]['nodes'])), file=routes)\n",
    "\n",
    "    print(\"</nodes>\", file=routes)"
   ]
  },
  {
   "cell_type": "code",
   "execution_count": 28,
   "metadata": {},
   "outputs": [],
   "source": [
    "from geopy.distance import great_circle\n",
    "max_distance = 20\n",
    "for i in net.edges:\n",
    "    distance = great_circle((net.nodes[i[0]]['lat'], net.nodes[i[0]]['long']),\n",
    "                           (net.nodes[i[1]]['lat'], net.nodes[i[1]]['long'])).meters\n",
    "    if distance > max_distance:\n",
    "        net.remove_edge(*i) "
   ]
  },
  {
   "cell_type": "code",
   "execution_count": 29,
   "metadata": {
    "scrolled": true
   },
   "outputs": [
    {
     "data": {
      "text/plain": [
       "{'61748555': {'lat': '12.9516788',\n",
       "  'long': '77.6214774',\n",
       "  'junction_name': 'None'},\n",
       " '260729391': {'lat': '12.9372613',\n",
       "  'long': '77.6269775',\n",
       "  'junction_name': 'Sony World Signal'},\n",
       " '263227076': {'lat': '12.9298524',\n",
       "  'long': '77.6331784',\n",
       "  'junction_name': 'None'},\n",
       " '309592695': {'lat': '12.9351857',\n",
       "  'long': '77.6244386',\n",
       "  'junction_name': 'None'},\n",
       " '315208341': {'lat': '12.9385881',\n",
       "  'long': '77.6326767',\n",
       "  'junction_name': 'None'},\n",
       " '315208342': {'lat': '12.9384851',\n",
       "  'long': '77.6327639',\n",
       "  'junction_name': 'Ejipur Signal'}}"
      ]
     },
     "execution_count": 29,
     "metadata": {},
     "output_type": "execute_result"
    }
   ],
   "source": [
    "a.get_raw_traffic_light_nodes()"
   ]
  },
  {
   "cell_type": "code",
   "execution_count": 7,
   "metadata": {},
   "outputs": [
    {
     "data": {
      "text/plain": [
       "EdgeView([('315208341', '315208342')])"
      ]
     },
     "execution_count": 7,
     "metadata": {},
     "output_type": "execute_result"
    }
   ],
   "source": [
    "net.edges"
   ]
  },
  {
   "cell_type": "code",
   "execution_count": 5,
   "metadata": {},
   "outputs": [],
   "source": [
    "import os"
   ]
  },
  {
   "cell_type": "code",
   "execution_count": 9,
   "metadata": {},
   "outputs": [
    {
     "data": {
      "text/plain": [
       "'/home/utkarsh/Study/Quantela'"
      ]
     },
     "execution_count": 9,
     "metadata": {},
     "output_type": "execute_result"
    }
   ],
   "source": [
    "os.path.realpath('..')"
   ]
  },
  {
   "cell_type": "code",
   "execution_count": 10,
   "metadata": {},
   "outputs": [
    {
     "data": {
      "text/plain": [
       "'/home/utkarsh/Study/Quantela'"
      ]
     },
     "execution_count": 10,
     "metadata": {},
     "output_type": "execute_result"
    }
   ],
   "source": [
    "os.path.realpath('/home/utkarsh/Study/Quantela')"
   ]
  },
  {
   "cell_type": "code",
   "execution_count": null,
   "metadata": {},
   "outputs": [],
   "source": []
  }
 ],
 "metadata": {
  "kernelspec": {
   "display_name": "Python 3",
   "language": "python",
   "name": "python3"
  },
  "language_info": {
   "codemirror_mode": {
    "name": "ipython",
    "version": 3
   },
   "file_extension": ".py",
   "mimetype": "text/x-python",
   "name": "python",
   "nbconvert_exporter": "python",
   "pygments_lexer": "ipython3",
   "version": "3.5.2"
  }
 },
 "nbformat": 4,
 "nbformat_minor": 1
}
