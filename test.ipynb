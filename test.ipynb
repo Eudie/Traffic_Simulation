{
 "cells": [
  {
   "cell_type": "code",
   "execution_count": 1,
   "metadata": {},
   "outputs": [],
   "source": [
    "import dynamic_traffic_signal\n",
    "import importlib"
   ]
  },
  {
   "cell_type": "code",
   "execution_count": 2,
   "metadata": {},
   "outputs": [],
   "source": [
    "a = dynamic_traffic_signal.DynamicTrafficSignal('Testing_class_ijipura_small')"
   ]
  },
  {
   "cell_type": "code",
   "execution_count": 3,
   "metadata": {},
   "outputs": [],
   "source": [
    "minlat=\"12.9380131671\"\n",
    "minlon=\"77.6319900345\" \n",
    "maxlat=\"12.939314082\" \n",
    "maxlon=\"77.6337735827\""
   ]
  },
  {
   "cell_type": "code",
   "execution_count": 4,
   "metadata": {},
   "outputs": [],
   "source": [
    "a.get_map(minlon, minlat , maxlon,  maxlat)"
   ]
  },
  {
   "cell_type": "code",
   "execution_count": 7,
   "metadata": {},
   "outputs": [],
   "source": []
  },
  {
   "cell_type": "code",
   "execution_count": 5,
   "metadata": {},
   "outputs": [
    {
     "data": {
      "text/plain": [
       "0"
      ]
     },
     "execution_count": 5,
     "metadata": {},
     "output_type": "execute_result"
    }
   ],
   "source": [
    "diction"
   ]
  },
  {
   "cell_type": "code",
   "execution_count": 9,
   "metadata": {},
   "outputs": [
    {
     "data": {
      "text/plain": [
       "1"
      ]
     },
     "execution_count": 9,
     "metadata": {},
     "output_type": "execute_result"
    }
   ],
   "source": [
    "len(diction)"
   ]
  },
  {
   "cell_type": "code",
   "execution_count": 10,
   "metadata": {},
   "outputs": [
    {
     "name": "stdout",
     "output_type": "stream",
     "text": [
      "315208342 315208341\n"
     ]
    }
   ],
   "source": [
    "for i in range(len(diction)):\n",
    "    print(\" \".join(diction[i]['nodes']))"
   ]
  },
  {
   "cell_type": "code",
   "execution_count": 11,
   "metadata": {},
   "outputs": [],
   "source": [
    "with open(\"test_node.xml\", \"w\") as routes:\n",
    "    print(\"<nodes>\", file=routes)\n",
    "    for i in range(len(diction)):\n",
    "        print('   <join nodes=\"{}\"/>'.format(\" \".join(diction[i]['nodes'])), file=routes)\n",
    "\n",
    "    print(\"</nodes>\", file=routes)"
   ]
  },
  {
   "cell_type": "code",
   "execution_count": 28,
   "metadata": {},
   "outputs": [],
   "source": [
    "from geopy.distance import great_circle\n",
    "max_distance = 20\n",
    "for i in net.edges:\n",
    "    distance = great_circle((net.nodes[i[0]]['lat'], net.nodes[i[0]]['long']),\n",
    "                           (net.nodes[i[1]]['lat'], net.nodes[i[1]]['long'])).meters\n",
    "    if distance > max_distance:\n",
    "        net.remove_edge(*i) "
   ]
  },
  {
   "cell_type": "code",
   "execution_count": 29,
   "metadata": {
    "scrolled": true
   },
   "outputs": [
    {
     "data": {
      "text/plain": [
       "{'61748555': {'lat': '12.9516788',\n",
       "  'long': '77.6214774',\n",
       "  'junction_name': 'None'},\n",
       " '260729391': {'lat': '12.9372613',\n",
       "  'long': '77.6269775',\n",
       "  'junction_name': 'Sony World Signal'},\n",
       " '263227076': {'lat': '12.9298524',\n",
       "  'long': '77.6331784',\n",
       "  'junction_name': 'None'},\n",
       " '309592695': {'lat': '12.9351857',\n",
       "  'long': '77.6244386',\n",
       "  'junction_name': 'None'},\n",
       " '315208341': {'lat': '12.9385881',\n",
       "  'long': '77.6326767',\n",
       "  'junction_name': 'None'},\n",
       " '315208342': {'lat': '12.9384851',\n",
       "  'long': '77.6327639',\n",
       "  'junction_name': 'Ejipur Signal'}}"
      ]
     },
     "execution_count": 29,
     "metadata": {},
     "output_type": "execute_result"
    }
   ],
   "source": [
    "a.get_raw_traffic_light_nodes()"
   ]
  },
  {
   "cell_type": "code",
   "execution_count": 7,
   "metadata": {},
   "outputs": [
    {
     "data": {
      "text/plain": [
       "EdgeView([('315208341', '315208342')])"
      ]
     },
     "execution_count": 7,
     "metadata": {},
     "output_type": "execute_result"
    }
   ],
   "source": [
    "net.edges"
   ]
  },
  {
   "cell_type": "code",
   "execution_count": 5,
   "metadata": {},
   "outputs": [],
   "source": [
    "import os"
   ]
  },
  {
   "cell_type": "code",
   "execution_count": 9,
   "metadata": {},
   "outputs": [
    {
     "data": {
      "text/plain": [
       "'/home/utkarsh/Study/Quantela'"
      ]
     },
     "execution_count": 9,
     "metadata": {},
     "output_type": "execute_result"
    }
   ],
   "source": [
    "os.path.realpath('..')"
   ]
  },
  {
   "cell_type": "code",
   "execution_count": 10,
   "metadata": {},
   "outputs": [
    {
     "data": {
      "text/plain": [
       "'/home/utkarsh/Study/Quantela'"
      ]
     },
     "execution_count": 10,
     "metadata": {},
     "output_type": "execute_result"
    }
   ],
   "source": [
    "os.path.realpath('/home/utkarsh/Study/Quantela')"
   ]
  },
  {
   "cell_type": "code",
   "execution_count": null,
   "metadata": {},
   "outputs": [],
   "source": []
  }
 ],
 "metadata": {
  "kernelspec": {
   "display_name": "Python 3",
   "language": "python",
   "name": "python3"
  },
  "language_info": {
   "codemirror_mode": {
    "name": "ipython",
    "version": 3
   },
   "file_extension": ".py",
   "mimetype": "text/x-python",
   "name": "python",
   "nbconvert_exporter": "python",
   "pygments_lexer": "ipython3",
   "version": "3.5.2"
  }
 },
 "nbformat": 4,
 "nbformat_minor": 1
}
