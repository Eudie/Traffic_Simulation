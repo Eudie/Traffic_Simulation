{
 "cells": [
  {
   "cell_type": "markdown",
   "metadata": {},
   "source": [
    "# Traffic Simulation\n",
    "-------------------------------\n",
    "\n",
    "## Importance\n",
    "\n",
    "   * To optimize signal light based on the current traffic\n",
    "   * To see the future traffic conditions based on growth rates\n",
    "   * To find the effectiveness of alternate routes\n",
    "   * Help to plan the infrasturcture\n",
    "   \n",
    "   \n",
    "<img src=\"Images/simulation.png\" width=\"900\" height=\"900\"/>"
   ]
  },
  {
   "cell_type": "markdown",
   "metadata": {},
   "source": [
    "## Our Approach\n",
    "\n",
    "   * **Map Info**: We are taking map info from OSM based on bounding box of the junction\n",
    "   * **Traffic Info**: We are using camera video to find traffic information, such as number of vehicles, distribution of type of vehicle\n",
    "   * **Simulation**: Simulation is done with SUMO (Simulation of Urban MObility), In which we can define the micro properties of each element such as speed of cars, lane changing tendancy of bike. This is very important to create realistic simulation of indian conditions\n",
    "   * **Optimization**: We ran simulation multiple times in the backend and outputs the most optimized signal opening time. It can also detect the most suitable traffic signal scheama\n",
    "   \n",
    "----------------------------"
   ]
  },
  {
   "cell_type": "markdown",
   "metadata": {},
   "source": [
    "## Importing traffic module"
   ]
  },
  {
   "cell_type": "code",
   "execution_count": 1,
   "metadata": {},
   "outputs": [],
   "source": [
    "import dynamic_traffic_signal"
   ]
  },
  {
   "cell_type": "code",
   "execution_count": 2,
   "metadata": {},
   "outputs": [],
   "source": [
    "traffic_signal = dynamic_traffic_signal.DynamicTrafficSignal('hoodi_test')"
   ]
  },
  {
   "cell_type": "markdown",
   "metadata": {},
   "source": [
    "## Getting Bounding Box\n",
    "\n",
    "### The first information required is signal location, we can do it by selecting rectangle over the map and get the lat long information, which we take as input\n",
    "\n",
    "![Ejipura Junction](Images/junction_Ejipura.png)"
   ]
  },
  {
   "cell_type": "code",
   "execution_count": 3,
   "metadata": {},
   "outputs": [],
   "source": [
    "#77.6194365352,12.9264155181,77.6223533771,12.9285800969\n",
    "minlon, minlat, maxlon, maxlat = 77.7519486464,12.9833797192,77.7528560462,12.9842016832\n",
    "\n",
    "minlat=str(minlat)\n",
    "minlon=str(minlon)\n",
    "maxlat=str(maxlat)\n",
    "maxlon=str(maxlon)"
   ]
  },
  {
   "cell_type": "code",
   "execution_count": 4,
   "metadata": {},
   "outputs": [],
   "source": [
    "traffic_signal.get_map(minlon,minlat, maxlon,  maxlat)"
   ]
  },
  {
   "cell_type": "markdown",
   "metadata": {},
   "source": [
    "## Traffic Information\n",
    "\n",
    "#### Once we get the location of traffic, next is to define the flow of traffic at the junction. We havet to input the flow information as follows:\n",
    "\n",
    "<img src=\"Images/right_up.png\" width=\"400\" height=\"400\"/>\n",
    "<img src=\"Images/right_down.png\" width=\"400\" height=\"400\"/>\n",
    "<img src=\"Images/right_right.png\" width=\"400\" height=\"400\"/>\n",
    "<img src=\"Images/up_right.png\" width=\"400\" height=\"400\"/>\n"
   ]
  },
  {
   "cell_type": "code",
   "execution_count": 5,
   "metadata": {},
   "outputs": [
    {
     "name": "stdout",
     "output_type": "stream",
     "text": [
      "Input traffic value for each road passing the junction: cluster_1104241030_1104243944_1368829017_251105190\n"
     ]
    }
   ],
   "source": [
    "traffic_signal.build_traffic()"
   ]
  },
  {
   "cell_type": "markdown",
   "metadata": {},
   "source": [
    "## We can get these information live using camera and assigning to the road\n",
    "\n",
    "<img src=\"Images/juction_detection.jpg\" width=\"800\" height=\"800\"/>\n"
   ]
  },
  {
   "cell_type": "markdown",
   "metadata": {},
   "source": [
    "### After getting the traffic information we can run simulation and find optimized timing for each road based on real time traffic.\n",
    "\n",
    "### We can also give any contraint range on the signal if required"
   ]
  },
  {
   "cell_type": "code",
   "execution_count": 6,
   "metadata": {},
   "outputs": [
    {
     "name": "stdout",
     "output_type": "stream",
     "text": [
      " Retrying in 1 seconds\n",
      " Retrying in 1 seconds\n",
      " Retrying in 1 seconds\n"
     ]
    },
    {
     "data": {
      "text/plain": [
       "{'junction': 'cluster_1104241030_1104243944_1368829017_251105190',\n",
       " 'phases': ['GGGGGrrrrrrrrrrrrrrr',\n",
       "  'rrrrrGGGGGrrrrrrrrrr',\n",
       "  'rrrrrrrrrrGGGGGrrrrr',\n",
       "  'rrrrrrrrrrrrrrrGGGGG'],\n",
       " 'time': [30.0, 60.0, 90.0, 120.0]}"
      ]
     },
     "execution_count": 6,
     "metadata": {},
     "output_type": "execute_result"
    }
   ],
   "source": [
    "traffic_signal.optimize_traffic_lights(timing_range={'min':30,'max':31}, gui=True)"
   ]
  },
  {
   "cell_type": "code",
   "execution_count": null,
   "metadata": {},
   "outputs": [],
   "source": []
  }
 ],
 "metadata": {
  "kernelspec": {
   "display_name": "Python 3",
   "language": "python",
   "name": "python3"
  },
  "language_info": {
   "codemirror_mode": {
    "name": "ipython",
    "version": 3
   },
   "file_extension": ".py",
   "mimetype": "text/x-python",
   "name": "python",
   "nbconvert_exporter": "python",
   "pygments_lexer": "ipython3",
   "version": "3.5.2"
  }
 },
 "nbformat": 4,
 "nbformat_minor": 1
}
