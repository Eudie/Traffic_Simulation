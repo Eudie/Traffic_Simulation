{
 "cells": [
  {
   "cell_type": "markdown",
   "metadata": {},
   "source": [
    "# Traffic Simulation\n",
    "-------------------------------\n",
    "\n",
    "## Importance\n",
    "\n",
    "   * To optimize signal light based on the current traffic\n",
    "   * To see the future traffic conditions based on growth rates\n",
    "   * To find the effectiveness of alternate routes\n",
    "   * Help to plan the infrasturcture\n",
    "   \n",
    "   \n",
    "<img src=\"Images/simulation.png\" width=\"900\" height=\"900\"/>"
   ]
  },
  {
   "cell_type": "markdown",
   "metadata": {},
   "source": [
    "## Our Approach\n",
    "\n",
    "   * **Map Info**: We are taking map info from OSM based on bounding box of the junction\n",
    "   * **Traffic Info**: We are using camera video to find traffic information, such as number of vehicles, distribution of type of vehicle\n",
    "   * **Simulation**: Simulation is done with SUMO (Simulation of Urban MObility), In which we can define the micro properties of each element such as speed of cars, lane changing tendancy of bike. This is very important to create realistic simulation of indian conditions\n",
    "   * **Optimization**: We ran simulation multiple times in the backend and outputs the most optimized signal opening time. It can also detect the most suitable traffic signal scheama\n",
    "   \n",
    "----------------------------"
   ]
  },
  {
   "cell_type": "markdown",
   "metadata": {},
   "source": [
    "## Importing traffic module"
   ]
  },
  {
   "cell_type": "code",
   "execution_count": 1,
   "metadata": {},
   "outputs": [],
   "source": [
    "import dynamic_traffic_signal"
   ]
  },
  {
   "cell_type": "code",
   "execution_count": 2,
   "metadata": {},
   "outputs": [],
   "source": [
    "traffic_signal = dynamic_traffic_signal.DynamicTrafficSignal('hoodi_test_final88')"
   ]
  },
  {
   "cell_type": "markdown",
   "metadata": {},
   "source": [
    "## Getting Bounding Box\n",
    "\n",
    "### The first information required is signal location, we can do it by selecting rectangle over the map and get the lat long information, which we take as input\n",
    "\n",
    "![Ejipura Junction](Images/junction_Ejipura.png)"
   ]
  },
  {
   "cell_type": "code",
   "execution_count": 3,
   "metadata": {},
   "outputs": [],
   "source": [
    "#77.6194365352,12.9264155181,77.6223533771,12.9285800969\n",
    "minlon, minlat, maxlon, maxlat = 77.7519486464,12.9833797192,77.7528560462,12.9842016832\n",
    "\n",
    "minlat=str(minlat) # bottom\n",
    "minlon=str(minlon) #left\n",
    "maxlat=str(maxlat) # top\n",
    "maxlon=str(maxlon) # right"
   ]
  },
  {
   "cell_type": "code",
   "execution_count": 4,
   "metadata": {},
   "outputs": [],
   "source": [
    "traffic_signal.get_map(minlon,minlat, maxlon,  maxlat)"
   ]
  },
  {
   "cell_type": "markdown",
   "metadata": {},
   "source": [
    "## Traffic Information\n",
    "\n",
    "#### Once we get the location of traffic, next is to define the flow of traffic at the junction. We havet to input the flow information as follows:\n",
    "\n",
    "<img src=\"Images/right_up.png\" width=\"400\" height=\"400\"/>\n",
    "<img src=\"Images/right_down.png\" width=\"400\" height=\"400\"/>\n",
    "<img src=\"Images/right_right.png\" width=\"400\" height=\"400\"/>\n",
    "<img src=\"Images/up_right.png\" width=\"400\" height=\"400\"/>\n"
   ]
  },
  {
   "cell_type": "code",
   "execution_count": 5,
   "metadata": {},
   "outputs": [],
   "source": [
    "traffic_signal.build_traffic(how='heremap')"
   ]
  },
  {
   "cell_type": "markdown",
   "metadata": {},
   "source": [
    "## We can get these information live using camera and assigning to the road\n",
    "\n",
    "<img src=\"Images/juction_detection.jpg\" width=\"800\" height=\"800\"/>\n"
   ]
  },
  {
   "cell_type": "markdown",
   "metadata": {},
   "source": [
    "### After getting the traffic information we can run simulation and find optimized timing for each road based on real time traffic.\n",
    "\n",
    "### We can also give any contraint range on the signal if required"
   ]
  },
  {
   "cell_type": "code",
   "execution_count": 6,
   "metadata": {},
   "outputs": [
    {
     "name": "stdout",
     "output_type": "stream",
     "text": [
      "\u001b[31mInitialization\u001b[0m\n",
      "\u001b[94m-----------------------------------------------------------------------------\u001b[0m\n",
      " Step |   Time |      Value |        G0 |        G1 |        G2 |        G3 | \n",
      "    1 | 00m00s | \u001b[35m  -8.04729\u001b[0m | \u001b[32m  45.1499\u001b[0m | \u001b[32m  68.9420\u001b[0m | \u001b[32m  68.3870\u001b[0m | \u001b[32m  62.5547\u001b[0m | \n",
      "    2 | 00m00s |   -9.54971 |   60.5714 |   64.0074 |   55.1542 |   47.9424 | \n",
      "    3 | 00m00s |  -10.77288 |   45.9580 |   72.6372 |   68.7441 |   73.3357 | \n",
      "    4 | 00m00s |  -17.40296 |   73.4906 |   61.0081 |   52.6938 |   71.9370 | \n",
      "    5 | 00m00s |  -17.39091 |   70.1707 |   56.9920 |   51.5140 |   71.4656 | \n",
      "    6 | 00m00s |  -14.83790 |   50.3586 |   47.4554 |   49.7671 |   71.1942 | \n",
      "    7 | 00m00s | \u001b[35m  -6.37745\u001b[0m | \u001b[32m  54.5744\u001b[0m | \u001b[32m  63.0928\u001b[0m | \u001b[32m  70.6934\u001b[0m | \u001b[32m  65.1599\u001b[0m | \n",
      "    8 | 00m00s |  -12.50010 |   49.5326 |   55.3595 |   52.0190 |   66.6722 | \n",
      "    9 | 00m00s |   -9.76671 |   53.5299 |   60.8859 |   56.6703 |   58.8393 | \n",
      "   10 | 00m00s |  -13.33471 |   51.0422 |   53.2587 |   50.7172 |   65.7666 | \n",
      "   11 | 00m00s |   -9.20845 |   53.7985 |   52.9494 |   57.0808 |   56.1054 | \n",
      "   12 | 00m00s |  -11.30446 |   71.0851 |   56.7374 |   67.6220 |   69.1065 | \n",
      "   13 | 00m00s |  -11.46037 |   56.9523 |   65.6182 |   58.9687 |   69.1357 | \n",
      "   14 | 00m00s | \u001b[35m  -5.15618\u001b[0m | \u001b[32m  53.5392\u001b[0m | \u001b[32m  69.2836\u001b[0m | \u001b[32m  65.1724\u001b[0m | \u001b[32m  50.3533\u001b[0m | \n",
      "   15 | 00m00s |   -5.22369 |   51.0856 |   59.5679 |   68.7675 |   59.3895 | \n",
      "   16 | 00m00s |  -10.61481 |   53.3517 |   46.8407 |   64.7493 |   55.0016 | \n",
      "   17 | 00m00s |   -6.95417 |   68.7787 |   57.6129 |   67.1481 |   46.0977 | \n",
      "   18 | 00m00s |  -19.77132 |   74.5333 |   67.7149 |   45.8264 |   67.5120 | \n",
      "   19 | 00m00s |   -9.25130 |   71.1038 |   58.2054 |   66.5597 |   58.3664 | \n",
      "   20 | 00m00s |   -5.56018 |   47.8118 |   73.9874 |   74.7417 |   50.6915 | \n",
      "   21 | 00m00s |   -7.64143 |   45.3536 |   67.7669 |   73.4623 |   73.3186 | \n",
      "   22 | 00m00s |   -7.33830 |   64.8334 |   68.2742 |   70.1325 |   56.8624 | \n",
      "   23 | 00m00s |   -9.08536 |   64.6506 |   59.8931 |   66.6432 |   62.4496 | \n",
      "   24 | 00m00s |  -11.53684 |   46.5699 |   73.4041 |   64.9484 |   70.4021 | \n",
      "   25 | 00m00s |   -8.90334 |   74.9608 |   73.3262 |   68.2296 |   53.4901 | \n",
      "   26 | 00m00s |  -16.13428 |   66.7130 |   73.6425 |   51.3964 |   69.6020 | \n",
      "   27 | 00m00s |   -7.65664 |   57.3642 |   60.3549 |   60.5414 |   50.1168 | \n",
      "   28 | 00m00s |  -13.12286 |   46.8337 |   66.5072 |   55.1600 |   73.7715 | \n",
      "   29 | 00m00s |  -10.00872 |   54.1759 |   54.0211 |   66.6461 |   70.7105 | \n",
      "   30 | 00m00s | \u001b[35m  -3.85164\u001b[0m | \u001b[32m  54.1514\u001b[0m | \u001b[32m  66.6718\u001b[0m | \u001b[32m  72.8384\u001b[0m | \u001b[32m  53.3982\u001b[0m | \n",
      "   31 | 00m00s |   -4.29412 |   49.7652 |   71.8279 |   71.4652 |   46.8476 | \n",
      "   32 | 00m00s |  -12.39178 |   48.1477 |   51.1440 |   47.9439 |   58.3749 | \n",
      "\u001b[31mBayesian Optimization\u001b[0m\n",
      "\u001b[94m-----------------------------------------------------------------------------\u001b[0m\n",
      " Step |   Time |      Value |        G0 |        G1 |        G2 |        G3 | \n",
      "   33 | 00m09s | \u001b[35m  -2.00523\u001b[0m | \u001b[32m  49.6023\u001b[0m | \u001b[32m  62.5785\u001b[0m | \u001b[32m  75.0000\u001b[0m | \u001b[32m  45.0000\u001b[0m | \n",
      "   34 | 00m07s | \u001b[35m  -1.98739\u001b[0m | \u001b[32m  45.0000\u001b[0m | \u001b[32m  60.3398\u001b[0m | \u001b[32m  75.0000\u001b[0m | \u001b[32m  45.0000\u001b[0m | \n",
      "   35 | 00m10s |   -2.42912 |   47.9748 |   60.5154 |   75.0000 |   45.0000 | \n",
      "   36 | 00m09s |   -2.15037 |   45.0000 |   64.5188 |   75.0000 |   45.0000 | \n",
      "   37 | 00m12s |   -2.24801 |   53.9636 |   65.3610 |   75.0000 |   45.0000 | \n",
      "   38 | 00m13s | \u001b[35m  -1.35063\u001b[0m | \u001b[32m  50.0704\u001b[0m | \u001b[32m  64.4780\u001b[0m | \u001b[32m  75.0000\u001b[0m | \u001b[32m  45.0000\u001b[0m | \n",
      "   39 | 00m12s | \u001b[35m  -1.20468\u001b[0m | \u001b[32m  50.0232\u001b[0m | \u001b[32m  66.3944\u001b[0m | \u001b[32m  75.0000\u001b[0m | \u001b[32m  45.0000\u001b[0m | \n",
      "   40 | 00m15s | \u001b[35m  -1.13492\u001b[0m | \u001b[32m  49.8998\u001b[0m | \u001b[32m  65.8089\u001b[0m | \u001b[32m  75.0000\u001b[0m | \u001b[32m  45.0000\u001b[0m | \n",
      "   41 | 00m17s | \u001b[35m  -1.09863\u001b[0m | \u001b[32m  49.4156\u001b[0m | \u001b[32m  65.6948\u001b[0m | \u001b[32m  75.0000\u001b[0m | \u001b[32m  45.0000\u001b[0m | \n",
      "   42 | 00m18s |   -1.17310 |   49.1463 |   65.6810 |   75.0000 |   45.0000 | \n",
      "   43 | 00m17s | \u001b[35m  -1.06158\u001b[0m | \u001b[32m  49.6416\u001b[0m | \u001b[32m  65.6829\u001b[0m | \u001b[32m  75.0000\u001b[0m | \u001b[32m  45.0000\u001b[0m | \n",
      "   44 | 00m17s |   -1.07449 |   49.6815 |   65.6494 |   75.0000 |   45.0000 | \n",
      "   45 | 00m18s |   -1.07617 |   49.6804 |   65.5791 |   75.0000 |   45.0000 | \n",
      "   46 | 00m21s |   -1.08123 |   49.6945 |   65.5489 |   75.0000 |   45.0000 | \n",
      "   47 | 00m25s |   -1.07756 |   49.6818 |   65.5445 |   75.0000 |   45.0000 | \n",
      "   48 | 00m20s |   -1.07248 |   49.6632 |   65.5281 |   75.0000 |   45.0000 | \n",
      "   49 | 00m17s |   -1.07322 |   49.6637 |   65.5066 |   75.0000 |   45.0000 | \n"
     ]
    },
    {
     "name": "stderr",
     "output_type": "stream",
     "text": [
      "/home/iquantela/.virtualenvs/Traffic_Simulation/lib/python3.5/site-packages/sklearn/gaussian_process/gpr.py:457: UserWarning: fmin_l_bfgs_b terminated abnormally with the  state: {'warnflag': 2, 'grad': array([-8.58451822e-05]), 'nit': 2, 'funcalls': 51, 'task': b'ABNORMAL_TERMINATION_IN_LNSRCH'}\n",
      "  \" state: %s\" % convergence_dict)\n"
     ]
    },
    {
     "name": "stdout",
     "output_type": "stream",
     "text": [
      "   50 | 00m18s |  -14.25797 |   75.0000 |   45.0000 |   45.0000 |   45.0000 | \n",
      "   51 | 00m21s |   -1.07971 |   49.6852 |   65.5036 |   75.0000 |   45.0000 | \n",
      "   52 | 00m22s |   -1.08158 |   49.6935 |   65.5250 |   75.0000 |   45.0000 | \n",
      "   53 | 00m25s |   -1.07605 |   49.6746 |   65.5216 |   75.0000 |   45.0000 | \n",
      "   54 | 00m21s |   -1.06854 |   49.6470 |   65.4960 |   75.0000 |   45.0000 | \n",
      "   55 | 00m23s |   -1.06582 |   49.6370 |   65.4868 |   75.0000 |   45.0000 | \n",
      "   56 | 00m40s |   -1.06657 |   49.6370 |   65.4601 |   75.0000 |   45.0000 | \n",
      "   57 | 00m31s |   -1.06541 |   49.6312 |   65.4387 |   75.0000 |   45.0000 | \n",
      "   58 | 00m35s | \u001b[35m  -1.04958\u001b[0m | \u001b[32m  49.5758\u001b[0m | \u001b[32m  65.4160\u001b[0m | \u001b[32m  74.9989\u001b[0m | \u001b[32m  45.0000\u001b[0m | \n",
      "   59 | 00m25s | \u001b[35m  -1.02581\u001b[0m | \u001b[32m  49.4877\u001b[0m | \u001b[32m  65.3191\u001b[0m | \u001b[32m  75.0000\u001b[0m | \u001b[32m  45.0000\u001b[0m | \n",
      "   60 | 00m20s |   -2.84806 |   56.8315 |   71.0529 |   75.0000 |   45.0000 | \n",
      "   61 | 00m23s |  -14.51146 |   45.0000 |   75.0000 |   45.0000 |   45.0000 | \n",
      "   62 | 00m28s | \u001b[35m  -0.93404\u001b[0m | \u001b[32m  49.1470\u001b[0m | \u001b[32m  64.9251\u001b[0m | \u001b[32m  75.0000\u001b[0m | \u001b[32m  45.0000\u001b[0m | \n"
     ]
    },
    {
     "name": "stderr",
     "output_type": "stream",
     "text": [
      "/home/iquantela/.virtualenvs/Traffic_Simulation/lib/python3.5/site-packages/sklearn/gaussian_process/gpr.py:457: UserWarning: fmin_l_bfgs_b terminated abnormally with the  state: {'warnflag': 2, 'grad': array([-0.00043014]), 'nit': 4, 'funcalls': 50, 'task': b'ABNORMAL_TERMINATION_IN_LNSRCH'}\n",
      "  \" state: %s\" % convergence_dict)\n"
     ]
    },
    {
     "name": "stdout",
     "output_type": "stream",
     "text": [
      "   63 | 00m21s |   -1.14637 |   47.9430 |   63.7906 |   75.0000 |   45.0000 | \n",
      "   64 | 00m23s |  -14.29874 |   75.0000 |   45.0000 |   75.0000 |   45.0000 | \n",
      "   65 | 00m24s |   -0.94166 |   48.9026 |   64.6322 |   75.0000 |   45.0000 | \n",
      "   66 | 00m22s | \u001b[35m  -0.92514\u001b[0m | \u001b[32m  48.8435\u001b[0m | \u001b[32m  64.6286\u001b[0m | \u001b[32m  75.0000\u001b[0m | \u001b[32m  45.0000\u001b[0m | \n",
      "   67 | 00m26s |   -0.95116 |   48.8934 |   64.6024 |   75.0000 |   45.0000 | \n",
      "   68 | 00m24s |   -0.93784 |   48.9116 |   64.6480 |   75.0000 |   45.0003 | \n",
      "   69 | 00m25s |   -0.93906 |   48.9207 |   64.6519 |   75.0000 |   45.0000 | \n",
      "   70 | 00m19s |   -0.94981 |   48.9245 |   64.6280 |   74.9990 |   45.0000 | \n"
     ]
    },
    {
     "name": "stderr",
     "output_type": "stream",
     "text": [
      "/home/iquantela/.virtualenvs/Traffic_Simulation/lib/python3.5/site-packages/sklearn/gaussian_process/gpr.py:457: UserWarning: fmin_l_bfgs_b terminated abnormally with the  state: {'warnflag': 2, 'grad': array([-0.00092565]), 'nit': 3, 'funcalls': 51, 'task': b'ABNORMAL_TERMINATION_IN_LNSRCH'}\n",
      "  \" state: %s\" % convergence_dict)\n"
     ]
    },
    {
     "name": "stdout",
     "output_type": "stream",
     "text": [
      "   71 | 00m24s |   -0.93106 |   48.9080 |   64.6619 |   75.0000 |   45.0000 | \n",
      "   72 | 00m24s |   -0.94013 |   48.9097 |   64.6411 |   75.0000 |   45.0000 | \n",
      "   73 | 00m23s |   -0.92779 |   48.9020 |   64.6654 |   75.0000 |   45.0000 | \n",
      "   74 | 00m26s | \u001b[35m  -0.92202\u001b[0m | \u001b[32m  48.8858\u001b[0m | \u001b[32m  64.6655\u001b[0m | \u001b[32m  74.9980\u001b[0m | \u001b[32m  45.0020\u001b[0m | \n",
      "   75 | 00m23s | \u001b[35m  -0.89311\u001b[0m | \u001b[32m  48.9034\u001b[0m | \u001b[32m  64.6902\u001b[0m | \u001b[32m  74.9002\u001b[0m | \u001b[32m  45.0000\u001b[0m | \n",
      "   76 | 00m20s |   -1.31788 |   48.6068 |   64.3653 |   72.0604 |   45.0000 | \n",
      "   77 | 00m21s |   -0.94974 |   48.9243 |   64.6985 |   74.0226 |   45.0000 | \n",
      "   78 | 00m18s |   -0.89360 |   48.7409 |   64.6339 |   74.5626 |   45.0036 | \n",
      "   79 | 00m20s | \u001b[35m  -0.88489\u001b[0m | \u001b[32m  48.6956\u001b[0m | \u001b[32m  64.5649\u001b[0m | \u001b[32m  74.4853\u001b[0m | \u001b[32m  45.0000\u001b[0m | \n",
      "   80 | 00m21s | \u001b[35m  -0.84016\u001b[0m | \u001b[32m  48.5863\u001b[0m | \u001b[32m  64.3032\u001b[0m | \u001b[32m  74.2467\u001b[0m | \u001b[32m  45.0000\u001b[0m | \n"
     ]
    },
    {
     "name": "stderr",
     "output_type": "stream",
     "text": [
      "/home/iquantela/.virtualenvs/Traffic_Simulation/lib/python3.5/site-packages/sklearn/gaussian_process/gpr.py:457: UserWarning: fmin_l_bfgs_b terminated abnormally with the  state: {'warnflag': 2, 'grad': array([0.00180565]), 'nit': 4, 'funcalls': 51, 'task': b'ABNORMAL_TERMINATION_IN_LNSRCH'}\n",
      "  \" state: %s\" % convergence_dict)\n"
     ]
    },
    {
     "name": "stdout",
     "output_type": "stream",
     "text": [
      "   81 | 00m19s |   -1.47028 |   45.0000 |   61.1522 |   70.5264 |   45.0000 | \n",
      "   82 | 00m19s |   -0.87046 |   47.8509 |   63.4626 |   73.2442 |   45.0000 | \n",
      " Retrying in 1 seconds\n"
     ]
    },
    {
     "data": {
      "text/plain": [
       "{'junction': 'cluster_1104241030_1104243944_1368829017_251105190',\n",
       " 'phases': ['GGGGGrrrrrrrrrrrrrrr',\n",
       "  'rrrrrGGGGGrrrrrrrrrr',\n",
       "  'rrrrrrrrrrGGGGGrrrrr',\n",
       "  'rrrrrrrrrrrrrrrGGGGG'],\n",
       " 'time': [49.0, 113.0, 187.0, 232.0]}"
      ]
     },
     "execution_count": 6,
     "metadata": {},
     "output_type": "execute_result"
    }
   ],
   "source": [
    "traffic_signal.optimize_traffic_lights(timing_range={'min':45,'max':75}, gui=True)"
   ]
  },
  {
   "cell_type": "code",
   "execution_count": null,
   "metadata": {},
   "outputs": [],
   "source": []
  }
 ],
 "metadata": {
  "kernelspec": {
   "display_name": "Python 3",
   "language": "python",
   "name": "python3"
  },
  "language_info": {
   "codemirror_mode": {
    "name": "ipython",
    "version": 3
   },
   "file_extension": ".py",
   "mimetype": "text/x-python",
   "name": "python",
   "nbconvert_exporter": "python",
   "pygments_lexer": "ipython3",
   "version": "3.5.2"
  }
 },
 "nbformat": 4,
 "nbformat_minor": 1
}
