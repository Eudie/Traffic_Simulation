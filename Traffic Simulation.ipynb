{
 "cells": [
  {
   "cell_type": "markdown",
   "metadata": {},
   "source": [
    "# Traffic Simulation\n",
    "-------------------------------\n",
    "\n",
    "## Importance\n",
    "\n",
    "   * To optimize signal light based on the current traffic\n",
    "   * To see the future traffic conditions based on growth rates\n",
    "   * To find the effectiveness of alternate routes\n",
    "   * Help to plan the infrasturcture\n",
    "   \n",
    "   \n",
    "<img src=\"Images/simulation.png\" width=\"900\" height=\"900\"/>"
   ]
  },
  {
   "cell_type": "markdown",
   "metadata": {},
   "source": [
    "## Our Approach\n",
    "\n",
    "   * **Map Info**: We are taking map info from OSM based on bounding box of the junction\n",
    "   * **Traffic Info**: We are using camera video to find traffic information, such as number of vehicles, distribution of type of vehicle\n",
    "   * **Simulation**: Simulation is done with SUMO (Simulation of Urban MObility), In which we can define the micro properties of each element such as speed of cars, lane changing tendancy of bike. This is very important to create realistic simulation of indian conditions\n",
    "   * **Optimization**: We ran simulation multiple times in the backend and outputs the most optimized signal opening time. It can also detect the most suitable traffic signal scheama\n",
    "   \n",
    "----------------------------"
   ]
  },
  {
   "cell_type": "markdown",
   "metadata": {},
   "source": [
    "## Importing traffic module"
   ]
  },
  {
   "cell_type": "code",
   "execution_count": 1,
   "metadata": {},
   "outputs": [],
   "source": [
    "import dynamic_traffic_signal"
   ]
  },
  {
   "cell_type": "code",
   "execution_count": 2,
   "metadata": {},
   "outputs": [],
   "source": [
    "traffic_signal = dynamic_traffic_signal.DynamicTrafficSignal('hoodi_test_final')"
   ]
  },
  {
   "cell_type": "markdown",
   "metadata": {},
   "source": [
    "## Getting Bounding Box\n",
    "\n",
    "### The first information required is signal location, we can do it by selecting rectangle over the map and get the lat long information, which we take as input\n",
    "\n",
    "![Ejipura Junction](Images/junction_Ejipura.png)"
   ]
  },
  {
   "cell_type": "code",
   "execution_count": 3,
   "metadata": {},
   "outputs": [],
   "source": [
    "#77.6194365352,12.9264155181,77.6223533771,12.9285800969\n",
    "minlon, minlat, maxlon, maxlat = 77.7519486464,12.9833797192,77.7528560462,12.9842016832\n",
    "\n",
    "minlat=str(minlat) # bottom\n",
    "minlon=str(minlon) #left\n",
    "maxlat=str(maxlat) # top\n",
    "maxlon=str(maxlon) # right"
   ]
  },
  {
   "cell_type": "code",
   "execution_count": 4,
   "metadata": {},
   "outputs": [],
   "source": [
    "traffic_signal.get_map(minlon,minlat, maxlon,  maxlat)"
   ]
  },
  {
   "cell_type": "markdown",
   "metadata": {},
   "source": [
    "## Traffic Information\n",
    "\n",
    "#### Once we get the location of traffic, next is to define the flow of traffic at the junction. We havet to input the flow information as follows:\n",
    "\n",
    "<img src=\"Images/right_up.png\" width=\"400\" height=\"400\"/>\n",
    "<img src=\"Images/right_down.png\" width=\"400\" height=\"400\"/>\n",
    "<img src=\"Images/right_right.png\" width=\"400\" height=\"400\"/>\n",
    "<img src=\"Images/up_right.png\" width=\"400\" height=\"400\"/>\n"
   ]
  },
  {
   "cell_type": "code",
   "execution_count": 5,
   "metadata": {},
   "outputs": [],
   "source": [
    "traffic_signal.build_traffic(how='heremap')"
   ]
  },
  {
   "cell_type": "markdown",
   "metadata": {},
   "source": [
    "## We can get these information live using camera and assigning to the road\n",
    "\n",
    "<img src=\"Images/juction_detection.jpg\" width=\"800\" height=\"800\"/>\n"
   ]
  },
  {
   "cell_type": "markdown",
   "metadata": {},
   "source": [
    "### After getting the traffic information we can run simulation and find optimized timing for each road based on real time traffic.\n",
    "\n",
    "### We can also give any contraint range on the signal if required"
   ]
  },
  {
   "cell_type": "code",
   "execution_count": 6,
   "metadata": {},
   "outputs": [
    {
     "name": "stdout",
     "output_type": "stream",
     "text": [
      "\u001b[31mInitialization\u001b[0m\n",
      "\u001b[94m-----------------------------------------------------------------------------\u001b[0m\n",
      " Step |   Time |      Value |        G0 |        G1 |        G2 |        G3 | \n",
      "    1 | 00m00s | \u001b[35m  -8.08352\u001b[0m | \u001b[32m  61.5144\u001b[0m | \u001b[32m  58.5738\u001b[0m | \u001b[32m  69.5318\u001b[0m | \u001b[32m  51.6118\u001b[0m | \n",
      "    2 | 00m00s |  -10.97633 |   55.9183 |   54.3482 |   45.2742 |   54.6897 | \n",
      "    3 | 00m00s | \u001b[35m  -5.03114\u001b[0m | \u001b[32m  57.4843\u001b[0m | \u001b[32m  74.6403\u001b[0m | \u001b[32m  59.3424\u001b[0m | \u001b[32m  55.7966\u001b[0m | \n",
      "    4 | 00m00s | \u001b[35m  -3.55851\u001b[0m | \u001b[32m  52.0882\u001b[0m | \u001b[32m  63.4307\u001b[0m | \u001b[32m  66.0510\u001b[0m | \u001b[32m  63.8807\u001b[0m | \n",
      "    5 | 00m00s |   -4.50839 |   53.5562 |   74.3904 |   71.6852 |   52.7256 | \n",
      "    6 | 00m00s |   -8.11754 |   46.2818 |   48.9912 |   70.6085 |   66.9780 | \n",
      "    7 | 00m00s |   -9.38040 |   53.5699 |   46.3980 |   50.6861 |   61.6462 | \n",
      "    8 | 00m00s |   -5.34305 |   52.8684 |   58.6600 |   56.5417 |   53.9715 | \n",
      "    9 | 00m00s |   -4.28462 |   46.0638 |   69.7845 |   69.8322 |   59.5785 | \n",
      "   10 | 00m00s |   -7.08941 |   52.4210 |   74.9909 |   60.1859 |   68.6931 | \n",
      "   11 | 00m00s |   -4.80251 |   56.8478 |   62.5407 |   72.8332 |   69.5738 | \n",
      "   12 | 00m00s |   -5.11180 |   46.0277 |   65.6414 |   52.7965 |   46.0537 | \n",
      "   13 | 00m00s |   -6.48529 |   53.0074 |   57.3083 |   65.7770 |   47.2177 | \n",
      "   14 | 00m00s |  -10.25384 |   72.3128 |   49.9837 |   50.4218 |   52.4651 | \n",
      "   15 | 00m00s |   -8.63296 |   68.4546 |   62.5298 |   73.3639 |   52.6918 | \n",
      "   16 | 00m00s |   -8.93248 |   51.4167 |   46.0830 |   52.0665 |   61.4870 | \n",
      "   17 | 00m00s |   -3.65805 |   49.4809 |   64.7666 |   69.6242 |   50.9698 | \n",
      "   18 | 00m00s |   -5.72827 |   48.3580 |   55.1996 |   66.8956 |   52.9587 | \n",
      "   19 | 00m00s |   -8.62702 |   49.3170 |   72.6996 |   51.2854 |   58.8602 | \n",
      "   20 | 00m00s |   -6.12408 |   51.5760 |   52.4662 |   60.7626 |   50.2219 | \n",
      "   21 | 00m00s |   -9.73353 |   66.0680 |   74.3212 |   60.3991 |   73.2595 | \n",
      "   22 | 00m00s |   -6.41733 |   55.3995 |   51.2563 |   60.6577 |   55.8287 | \n",
      "   23 | 00m00s |   -8.10487 |   67.6032 |   71.3728 |   59.6490 |   60.7789 | \n",
      "   24 | 00m00s |   -5.32295 |   56.0411 |   73.8869 |   68.6352 |   49.3654 | \n",
      "   25 | 00m00s |  -10.53407 |   68.7587 |   59.9110 |   50.8634 |   54.9789 | \n",
      "   26 | 00m00s |   -9.09612 |   70.5957 |   64.7807 |   63.9232 |   45.5094 | \n",
      "   27 | 00m00s |   -7.96958 |   63.3918 |   70.9017 |   55.5692 |   45.4359 | \n",
      "   28 | 00m00s |   -5.73445 |   61.0125 |   61.2975 |   70.0494 |   60.8873 | \n",
      "   29 | 00m00s |   -6.87740 |   59.4055 |   69.2181 |   53.0073 |   50.5528 | \n",
      "   30 | 00m00s |  -10.60806 |   69.9683 |   45.6775 |   54.8525 |   56.1069 | \n",
      "   31 | 00m00s | \u001b[35m  -3.31152\u001b[0m | \u001b[32m  50.2257\u001b[0m | \u001b[32m  70.9164\u001b[0m | \u001b[32m  71.0385\u001b[0m | \u001b[32m  71.0517\u001b[0m | \n",
      "   32 | 00m00s |  -10.21070 |   71.5745 |   56.5277 |   72.9822 |   74.4352 | \n",
      "\u001b[31mBayesian Optimization\u001b[0m\n",
      "\u001b[94m-----------------------------------------------------------------------------\u001b[0m\n",
      " Step |   Time |      Value |        G0 |        G1 |        G2 |        G3 | \n",
      "   33 | 00m05s |   -6.19141 |   45.0000 |   75.0000 |   75.0000 |   75.0000 | \n",
      "   34 | 00m05s |   -6.60791 |   45.0000 |   69.9553 |   75.0000 |   45.0000 | \n",
      "   35 | 00m06s | \u001b[35m  -2.39002\u001b[0m | \u001b[32m  53.1756\u001b[0m | \u001b[32m  69.1418\u001b[0m | \u001b[32m  73.0331\u001b[0m | \u001b[32m  64.9313\u001b[0m | \n",
      "   36 | 00m06s | \u001b[35m  -2.37498\u001b[0m | \u001b[32m  53.7647\u001b[0m | \u001b[32m  70.3234\u001b[0m | \u001b[32m  75.0000\u001b[0m | \u001b[32m  65.5395\u001b[0m | \n",
      "   37 | 00m07s | \u001b[35m  -2.24741\u001b[0m | \u001b[32m  52.9194\u001b[0m | \u001b[32m  68.9610\u001b[0m | \u001b[32m  75.0000\u001b[0m | \u001b[32m  65.1314\u001b[0m | \n",
      "   38 | 00m06s |   -2.56886 |   52.7846 |   67.8765 |   75.0000 |   63.2238 | \n",
      "   39 | 00m06s | \u001b[35m  -1.60903\u001b[0m | \u001b[32m  51.6882\u001b[0m | \u001b[32m  68.4053\u001b[0m | \u001b[32m  75.0000\u001b[0m | \u001b[32m  67.3990\u001b[0m | \n",
      "   40 | 00m08s | \u001b[35m  -1.41028\u001b[0m | \u001b[32m  50.2797\u001b[0m | \u001b[32m  67.0276\u001b[0m | \u001b[32m  75.0000\u001b[0m | \u001b[32m  68.8368\u001b[0m | \n",
      "   41 | 00m08s |   -1.46464 |   50.8440 |   67.3398 |   75.0000 |   69.1762 | \n",
      "   42 | 00m10s | \u001b[35m  -1.22839\u001b[0m | \u001b[32m  49.7401\u001b[0m | \u001b[32m  67.2782\u001b[0m | \u001b[32m  75.0000\u001b[0m | \u001b[32m  68.2613\u001b[0m | \n",
      "   43 | 00m09s |   -1.81927 |   47.8263 |   68.3334 |   75.0000 |   67.6438 | \n",
      "   44 | 00m08s | \u001b[35m  -1.21309\u001b[0m | \u001b[32m  49.6584\u001b[0m | \u001b[32m  67.5059\u001b[0m | \u001b[32m  75.0000\u001b[0m | \u001b[32m  67.5409\u001b[0m | \n",
      "   45 | 00m08s | \u001b[35m  -1.01442\u001b[0m | \u001b[32m  49.7952\u001b[0m | \u001b[32m  67.9189\u001b[0m | \u001b[32m  75.0000\u001b[0m | \u001b[32m  68.1196\u001b[0m | \n",
      "   46 | 00m07s |   -1.33198 |   49.8979 |   69.0569 |   75.0000 |   68.4758 | \n",
      "   47 | 00m06s |  -18.23212 |   75.0000 |   45.0000 |   45.0000 |   75.0000 | \n",
      "   48 | 00m06s |  -18.59344 |   75.0000 |   45.0000 |   75.0000 |   45.0000 | \n",
      "   49 | 00m06s |   -1.03191 |   49.8563 |   68.0979 |   74.4447 |   68.1180 | \n",
      "   50 | 00m06s |   -1.03142 |   49.8616 |   68.1140 |   74.8858 |   68.0781 | \n",
      "   51 | 00m06s |   -1.02244 |   49.8191 |   68.0659 |   74.7528 |   68.1230 | \n",
      "   52 | 00m08s |   -1.01445 |   49.8282 |   68.0769 |   74.8202 |   68.1802 | \n",
      "   53 | 00m08s |   -1.02382 |   49.7868 |   68.0823 |   74.7511 |   68.2306 | \n",
      "   54 | 00m08s |   -1.05082 |   49.7525 |   68.1094 |   74.7364 |   68.1902 | \n",
      "   55 | 00m07s |   -1.02953 |   49.9643 |   68.0667 |   74.8381 |   68.0218 | \n",
      "   56 | 00m08s | \u001b[35m  -0.98899\u001b[0m | \u001b[32m  49.9261\u001b[0m | \u001b[32m  68.0808\u001b[0m | \u001b[32m  74.8028\u001b[0m | \u001b[32m  68.2328\u001b[0m | \n",
      "   57 | 00m07s |   -1.02570 |   50.0725 |   68.0448 |   74.8659 |   68.2912 | \n",
      "   58 | 00m08s |   -1.00178 |   49.9843 |   68.0047 |   74.8853 |   68.2775 | \n",
      "   59 | 00m08s |   -0.99719 |   49.9554 |   68.0420 |   74.9573 |   68.2224 | \n",
      "   60 | 00m08s |   -1.00395 |   49.9890 |   68.0621 |   74.9356 |   68.2460 | \n",
      "   61 | 00m07s |   -0.99517 |   49.9088 |   68.0014 |   75.0000 |   68.2810 | \n",
      "   62 | 00m07s |   -1.00528 |   49.9474 |   67.9922 |   74.9806 |   68.2789 | \n",
      "   63 | 00m08s |   -0.99046 |   49.9012 |   68.1148 |   74.9837 |   68.2734 | \n",
      "   64 | 00m07s |  -12.90809 |   45.0000 |   60.6175 |   45.0000 |   75.0000 | \n",
      "   65 | 00m11s |   -1.01194 |   50.0292 |   68.0642 |   75.0000 |   68.2649 | \n",
      "   66 | 00m11s |   -0.99063 |   49.9799 |   68.0845 |   75.0000 |   68.3039 | \n",
      "   67 | 00m10s |   -0.99277 |   50.0057 |   68.0842 |   75.0000 |   68.3461 | \n",
      "   68 | 00m10s | \u001b[35m  -0.95725\u001b[0m | \u001b[32m  49.9216\u001b[0m | \u001b[32m  68.0816\u001b[0m | \u001b[32m  75.0000\u001b[0m | \u001b[32m  68.4177\u001b[0m | \n",
      "   69 | 00m08s | \u001b[35m  -0.93062\u001b[0m | \u001b[32m  49.8164\u001b[0m | \u001b[32m  68.1124\u001b[0m | \u001b[32m  75.0000\u001b[0m | \u001b[32m  68.8847\u001b[0m | \n",
      "   70 | 00m09s |  -14.26809 |   45.0000 |   45.0000 |   75.0000 |   45.0000 | \n",
      "   71 | 00m09s |   -1.08829 |   49.4882 |   68.0125 |   75.0000 |   69.6291 | \n",
      "   72 | 00m09s |  -18.33212 |   75.0000 |   75.0000 |   45.0000 |   75.0000 | \n",
      "   73 | 00m10s |   -0.97121 |   49.7529 |   68.1130 |   75.0000 |   68.7310 | \n",
      "   74 | 00m09s |   -0.93536 |   49.8644 |   68.1665 |   75.0000 |   68.9000 | \n",
      "   75 | 00m10s | \u001b[35m  -0.89984\u001b[0m | \u001b[32m  49.9484\u001b[0m | \u001b[32m  68.1254\u001b[0m | \u001b[32m  75.0000\u001b[0m | \u001b[32m  68.8816\u001b[0m | \n",
      "   76 | 00m10s |  -10.91504 |   75.0000 |   75.0000 |   45.0000 |   45.0000 | \n",
      "   77 | 00m11s |   -0.91716 |   50.0214 |   68.0533 |   74.9703 |   68.9451 | \n",
      "   78 | 00m10s |   -0.91783 |   50.0091 |   68.0358 |   75.0000 |   68.9828 | \n",
      "   79 | 00m09s | \u001b[35m  -0.89879\u001b[0m | \u001b[32m  49.9395\u001b[0m | \u001b[32m  68.0532\u001b[0m | \u001b[32m  75.0000\u001b[0m | \u001b[32m  68.9042\u001b[0m | \n",
      "   80 | 00m10s |   -0.94531 |   50.0450 |   68.1056 |   75.0000 |   69.1714 | \n",
      "   81 | 00m09s |   -0.96487 |   50.1537 |   68.2120 |   75.0000 |   69.1073 | \n",
      "   82 | 00m09s | \u001b[35m  -0.88915\u001b[0m | \u001b[32m  49.9105\u001b[0m | \u001b[32m  68.0273\u001b[0m | \u001b[32m  74.9848\u001b[0m | \u001b[32m  68.9509\u001b[0m | \n",
      " Retrying in 1 seconds\n"
     ]
    },
    {
     "data": {
      "text/plain": [
       "{'junction': 'cluster_1104241030_1104243944_1368829017_251105190',\n",
       " 'phases': ['GGGGGrrrrrrrrrrrrrrr',\n",
       "  'rrrrrGGGGGrrrrrrrrrr',\n",
       "  'rrrrrrrrrrGGGGGrrrrr',\n",
       "  'rrrrrrrrrrrrrrrGGGGG'],\n",
       " 'time': [50.0, 118.0, 193.0, 262.0]}"
      ]
     },
     "execution_count": 6,
     "metadata": {},
     "output_type": "execute_result"
    }
   ],
   "source": [
    "traffic_signal.optimize_traffic_lights(timing_range={'min':45,'max':75}, gui=True)"
   ]
  },
  {
   "cell_type": "code",
   "execution_count": null,
   "metadata": {},
   "outputs": [],
   "source": []
  }
 ],
 "metadata": {
  "kernelspec": {
   "display_name": "Python 3",
   "language": "python",
   "name": "python3"
  },
  "language_info": {
   "codemirror_mode": {
    "name": "ipython",
    "version": 3
   },
   "file_extension": ".py",
   "mimetype": "text/x-python",
   "name": "python",
   "nbconvert_exporter": "python",
   "pygments_lexer": "ipython3",
   "version": "3.5.2"
  }
 },
 "nbformat": 4,
 "nbformat_minor": 1
}
